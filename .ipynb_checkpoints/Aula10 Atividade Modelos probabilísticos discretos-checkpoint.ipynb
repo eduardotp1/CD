{
 "cells": [
  {
   "cell_type": "markdown",
   "metadata": {},
   "source": [
    "___\n",
    "# Atividade: Modelos probabilísticos discretos e Dados\n",
    "___\n",
    "\n",
    "## Aula 10\n",
    "\n",
    "**Referência de Leitura:**\n",
    "1. Magalhães e Lima (7ª. Edição): Seções 3.2 e 3.3\n",
    "\n",
    "**Hoje:**\n",
    "1.\tDescrever modelos discretos quanto aos resultados teóricos.\n",
    "2.\tExplicar a utilização de modelos probabilísticos no contexto da literatura estatística.\n",
    "3.\tContrastar resultados teóricos e empíricos.\n",
    "4.\tFechamento do conteúdo.\n",
    "\n",
    "**Próxima aula:**\n",
    "1. Leitura prévia necessária: Magalhães e Lima (7ª. Edição): Seção 5.1 (pág. 137) e Seção 5.2 (pág. 146).\n",
    "___"
   ]
  },
  {
   "cell_type": "code",
   "execution_count": 1,
   "metadata": {
    "collapsed": true
   },
   "outputs": [],
   "source": [
    "%matplotlib inline\n",
    "import pandas as pd\n",
    "import matplotlib.pyplot as plt\n",
    "\n",
    "from scipy import stats #importa apenas as funções de estatísticas da biblioteca SciPy.\n",
    "import itertools #importante para gerar todos os resultados possíveis!!\n"
   ]
  },
  {
   "cell_type": "markdown",
   "metadata": {},
   "source": [
    "___\n",
    "## <font color='blue'>Exercício 1</font>\n",
    "\n",
    "Um resistor de 100K Ohms comprado na Santa Efigênia tem probabilidade de falha de 5%, segundo um fabricante ruim.\n",
    "\n",
    "Ainda, assuma os resistores falham de forma independente entre si.\n",
    "\n",
    "Um aluno de engenharia compra um pacote contendo $n$ resistores.\n",
    "\n",
    "1. Assuma $n=3$ e faça os itens a seguir.\n",
    "  1. Monte o espaço amostral que combine todos os resultados possíveis de Falha e não Falha desses $n$ resistores. Ainda, calcule a probabilidade de cada resultado do espaço amostral acontecer.\n",
    "  2. Se $Y$ representa o número de resistores que falham em um pacotinho com $n$ resistores, então construa a distribuição de probabilidades de $Y$.\n",
    "  3. Calcule a média e o desvio padrão de $Y$. Interprete os resultados.\n",
    "    \n",
    "2. Assuma $n=7$ e repita os itens A) a C) anteriores. No caso de $n=7$ ou maiores quantidades de resistores em um pacotinho, qual a viabilidade de construir a distribuição de probabilidades do número de resistores com defeitos quando $n$ não é pequeno?\n",
    "    \n",
    "3. Encontre a distribuição de probabilidades de cada possível valor de $Y$ utilizando a distribuição Binomial para $n=3$ e $n=7$. Calcule também $E(X)$ e $Var(X)$. Compare com as distribuições de probabilidades obtidas nos itens anteriores e discuta porque esses valores são iguais ou diferentes!\n",
    "    \n",
    "> **DISTRIBUIÇÃO BINOMIAL - TEORIA:**\n",
    "\n",
    "> É responsável por modelar uma variável $Y$ definida pelo Número de sucessos em $n$ tentativas, cuja probabilidade de sucesso é dada por $p$. Assim, dizemos que $Y$~$Bin(n,p)$ e lê-se: $Y$ segue uma distribuição binomial com $n$ tentativas e $p$ como probabilidade de sucesso. \n",
    "\n",
    "> A função de probabilidade nesse caso é dada por:\n",
    "$P(Y=y)=\\left(\n",
    "\\begin{array}{c}\n",
    "    n \\\\\n",
    "    y\n",
    "\\end{array}\\right) p^y (1-p)^{(n-y)}$\n",
    "\n",
    "> Para um experimento ter as probabilidade dos números de sucessos modeladas por uma distribuição Binomial, o mesmo precisa ter as seguintes propriedades:\n",
    "* é uma contagem de $n$ repetições (ou tentativas ou ensaios) idênticas;\n",
    "* cada repetição tem apenas 2 resultados possíveis: um é denominado sucesso e o outro, fracasso;\n",
    "* a probabilidade de sucesso para cada ensaio é denominada $p$ e será constante em cada repetição. Então, a probabilidade de fracasso $(1-p)$ também não varia de tentativa para tentativa;\n",
    "* As tentativas são independentes.\n",
    "\n",
    "\n",
    "> **DISTRIBUIÇÃO BINOMIAL - PYTHON:** <sup> [https://en.wikipedia.org/wiki/SciPy]\n",
    "\n",
    "> Algumas funções úteis para desenvolver seu código: <sup> [http://docs.scipy.org/doc/scipy-0.16.1/reference/generated/scipy.stats.binom.html]\n",
    "* $P(Y=y)$: `stats.binom.pmf(y, n, p)`\n",
    "* $P(Y\\leq y)$: `stats.binom.cdf(y, n, p)`\n",
    "* $E(X)$ e $Var(X)$: `stats.binom.stats(n, p, moments='mv')`\n"
   ]
  },
  {
   "cell_type": "markdown",
   "metadata": {},
   "source": [
    "Exercicio 1, parte 1"
   ]
  },
  {
   "cell_type": "markdown",
   "metadata": {},
   "source": [
    "A)"
   ]
  },
  {
   "cell_type": "code",
   "execution_count": 2,
   "metadata": {
    "collapsed": true
   },
   "outputs": [],
   "source": [
    "possibilidades = [\"F\", \"NF\"]\n",
    "prob = {\"F\": 0.05, \"NF\":0.95}\n",
    "arranjos = itertools.product(possibilidades, repeat=3)\n",
    "espaco_amostral = list(arranjos)"
   ]
  },
  {
   "cell_type": "code",
   "execution_count": 3,
   "metadata": {
    "collapsed": false
   },
   "outputs": [
    {
     "data": {
      "text/plain": [
       "[('F', 'F', 'F'),\n",
       " ('F', 'F', 'NF'),\n",
       " ('F', 'NF', 'F'),\n",
       " ('F', 'NF', 'NF'),\n",
       " ('NF', 'F', 'F'),\n",
       " ('NF', 'F', 'NF'),\n",
       " ('NF', 'NF', 'F'),\n",
       " ('NF', 'NF', 'NF')]"
      ]
     },
     "execution_count": 3,
     "metadata": {},
     "output_type": "execute_result"
    }
   ],
   "source": [
    "espaco_amostral"
   ]
  },
  {
   "cell_type": "code",
   "execution_count": 4,
   "metadata": {
    "collapsed": false
   },
   "outputs": [
    {
     "data": {
      "text/plain": [
       "[0.00012500000000000003,\n",
       " 0.0023750000000000004,\n",
       " 0.0023750000000000004,\n",
       " 0.045125,\n",
       " 0.0023750000000000004,\n",
       " 0.045125,\n",
       " 0.045125,\n",
       " 0.8573749999999999]"
      ]
     },
     "execution_count": 4,
     "metadata": {},
     "output_type": "execute_result"
    }
   ],
   "source": [
    "prob_linhas = []\n",
    "\n",
    "for res in espaco_amostral:\n",
    "    p = 1.0\n",
    "    for e in res:\n",
    "        p*=prob[e]\n",
    "    prob_linhas.append(p)\n",
    "\n",
    "prob_linhas"
   ]
  },
  {
   "cell_type": "markdown",
   "metadata": {},
   "source": [
    "B)"
   ]
  },
  {
   "cell_type": "code",
   "execution_count": 5,
   "metadata": {
    "collapsed": true
   },
   "outputs": [],
   "source": [
    "Y = {}"
   ]
  },
  {
   "cell_type": "code",
   "execution_count": 6,
   "metadata": {
    "collapsed": false
   },
   "outputs": [
    {
     "name": "stdout",
     "output_type": "stream",
     "text": [
      "Falhas:  0  Probabilidade 0.85737 \n",
      "Falhas:  1  Probabilidade 0.13537 \n",
      "Falhas:  2  Probabilidade 0.00713 \n",
      "Falhas:  3  Probabilidade 0.00013 \n"
     ]
    }
   ],
   "source": [
    "for i in range(len(espaco_amostral)):\n",
    "    Falhas = espaco_amostral[i].count(\"F\")\n",
    "    # Checar antes se a chave está no dicionário\n",
    "    if Falhas in Y:\n",
    "        Y[Falhas] += prob_linhas[i]\n",
    "    else:\n",
    "        Y[Falhas] = prob_linhas[i]\n",
    "for k in Y:\n",
    "    print(\"Falhas: \", k, \" Probabilidade\", \"%6.5f \"%Y[k])\n",
    "    "
   ]
  },
  {
   "cell_type": "markdown",
   "metadata": {},
   "source": [
    "C)"
   ]
  },
  {
   "cell_type": "code",
   "execution_count": 8,
   "metadata": {
    "collapsed": false
   },
   "outputs": [
    {
     "name": "stdout",
     "output_type": "stream",
     "text": [
      "A media de falhar os resistores em um pacote é:  0.15\n"
     ]
    }
   ],
   "source": [
    "MediaY= (Y[0]*0+Y[1]*1+Y[2]*2+Y[3]*3)\n",
    "print (\"A media de falhar os resistores em um pacote é: \", MediaY)"
   ]
  },
  {
   "cell_type": "code",
   "execution_count": 9,
   "metadata": {
    "collapsed": false
   },
   "outputs": [
    {
     "name": "stdout",
     "output_type": "stream",
     "text": [
      "O desvio padrão dos resistores falharem em um pacote é de:  0.37749172176353746\n"
     ]
    }
   ],
   "source": [
    "DP=0\n",
    "for k,v in Y.items():\n",
    "    DP+=((k-MediaY)**2)*v\n",
    "print(\"O desvio padrão dos resistores falharem em um pacote é de: \",(DP**0.5))"
   ]
  },
  {
   "cell_type": "markdown",
   "metadata": {},
   "source": [
    "Exercicio 1, parte 2"
   ]
  },
  {
   "cell_type": "markdown",
   "metadata": {},
   "source": [
    "A)"
   ]
  },
  {
   "cell_type": "code",
   "execution_count": 10,
   "metadata": {
    "collapsed": true
   },
   "outputs": [],
   "source": [
    "possibilidades1 = [\"F\", \"NF\"]\n",
    "arranjos1 = itertools.product(possibilidades1, repeat=7)\n",
    "espaco_amostral1 = list(arranjos1)"
   ]
  },
  {
   "cell_type": "code",
   "execution_count": 11,
   "metadata": {
    "collapsed": false
   },
   "outputs": [
    {
     "data": {
      "text/plain": [
       "[('F', 'F', 'F', 'F', 'F', 'F', 'F'),\n",
       " ('F', 'F', 'F', 'F', 'F', 'F', 'NF'),\n",
       " ('F', 'F', 'F', 'F', 'F', 'NF', 'F'),\n",
       " ('F', 'F', 'F', 'F', 'F', 'NF', 'NF'),\n",
       " ('F', 'F', 'F', 'F', 'NF', 'F', 'F'),\n",
       " ('F', 'F', 'F', 'F', 'NF', 'F', 'NF'),\n",
       " ('F', 'F', 'F', 'F', 'NF', 'NF', 'F'),\n",
       " ('F', 'F', 'F', 'F', 'NF', 'NF', 'NF'),\n",
       " ('F', 'F', 'F', 'NF', 'F', 'F', 'F'),\n",
       " ('F', 'F', 'F', 'NF', 'F', 'F', 'NF'),\n",
       " ('F', 'F', 'F', 'NF', 'F', 'NF', 'F'),\n",
       " ('F', 'F', 'F', 'NF', 'F', 'NF', 'NF'),\n",
       " ('F', 'F', 'F', 'NF', 'NF', 'F', 'F'),\n",
       " ('F', 'F', 'F', 'NF', 'NF', 'F', 'NF'),\n",
       " ('F', 'F', 'F', 'NF', 'NF', 'NF', 'F'),\n",
       " ('F', 'F', 'F', 'NF', 'NF', 'NF', 'NF'),\n",
       " ('F', 'F', 'NF', 'F', 'F', 'F', 'F'),\n",
       " ('F', 'F', 'NF', 'F', 'F', 'F', 'NF'),\n",
       " ('F', 'F', 'NF', 'F', 'F', 'NF', 'F'),\n",
       " ('F', 'F', 'NF', 'F', 'F', 'NF', 'NF'),\n",
       " ('F', 'F', 'NF', 'F', 'NF', 'F', 'F'),\n",
       " ('F', 'F', 'NF', 'F', 'NF', 'F', 'NF'),\n",
       " ('F', 'F', 'NF', 'F', 'NF', 'NF', 'F'),\n",
       " ('F', 'F', 'NF', 'F', 'NF', 'NF', 'NF'),\n",
       " ('F', 'F', 'NF', 'NF', 'F', 'F', 'F'),\n",
       " ('F', 'F', 'NF', 'NF', 'F', 'F', 'NF'),\n",
       " ('F', 'F', 'NF', 'NF', 'F', 'NF', 'F'),\n",
       " ('F', 'F', 'NF', 'NF', 'F', 'NF', 'NF'),\n",
       " ('F', 'F', 'NF', 'NF', 'NF', 'F', 'F'),\n",
       " ('F', 'F', 'NF', 'NF', 'NF', 'F', 'NF'),\n",
       " ('F', 'F', 'NF', 'NF', 'NF', 'NF', 'F'),\n",
       " ('F', 'F', 'NF', 'NF', 'NF', 'NF', 'NF'),\n",
       " ('F', 'NF', 'F', 'F', 'F', 'F', 'F'),\n",
       " ('F', 'NF', 'F', 'F', 'F', 'F', 'NF'),\n",
       " ('F', 'NF', 'F', 'F', 'F', 'NF', 'F'),\n",
       " ('F', 'NF', 'F', 'F', 'F', 'NF', 'NF'),\n",
       " ('F', 'NF', 'F', 'F', 'NF', 'F', 'F'),\n",
       " ('F', 'NF', 'F', 'F', 'NF', 'F', 'NF'),\n",
       " ('F', 'NF', 'F', 'F', 'NF', 'NF', 'F'),\n",
       " ('F', 'NF', 'F', 'F', 'NF', 'NF', 'NF'),\n",
       " ('F', 'NF', 'F', 'NF', 'F', 'F', 'F'),\n",
       " ('F', 'NF', 'F', 'NF', 'F', 'F', 'NF'),\n",
       " ('F', 'NF', 'F', 'NF', 'F', 'NF', 'F'),\n",
       " ('F', 'NF', 'F', 'NF', 'F', 'NF', 'NF'),\n",
       " ('F', 'NF', 'F', 'NF', 'NF', 'F', 'F'),\n",
       " ('F', 'NF', 'F', 'NF', 'NF', 'F', 'NF'),\n",
       " ('F', 'NF', 'F', 'NF', 'NF', 'NF', 'F'),\n",
       " ('F', 'NF', 'F', 'NF', 'NF', 'NF', 'NF'),\n",
       " ('F', 'NF', 'NF', 'F', 'F', 'F', 'F'),\n",
       " ('F', 'NF', 'NF', 'F', 'F', 'F', 'NF'),\n",
       " ('F', 'NF', 'NF', 'F', 'F', 'NF', 'F'),\n",
       " ('F', 'NF', 'NF', 'F', 'F', 'NF', 'NF'),\n",
       " ('F', 'NF', 'NF', 'F', 'NF', 'F', 'F'),\n",
       " ('F', 'NF', 'NF', 'F', 'NF', 'F', 'NF'),\n",
       " ('F', 'NF', 'NF', 'F', 'NF', 'NF', 'F'),\n",
       " ('F', 'NF', 'NF', 'F', 'NF', 'NF', 'NF'),\n",
       " ('F', 'NF', 'NF', 'NF', 'F', 'F', 'F'),\n",
       " ('F', 'NF', 'NF', 'NF', 'F', 'F', 'NF'),\n",
       " ('F', 'NF', 'NF', 'NF', 'F', 'NF', 'F'),\n",
       " ('F', 'NF', 'NF', 'NF', 'F', 'NF', 'NF'),\n",
       " ('F', 'NF', 'NF', 'NF', 'NF', 'F', 'F'),\n",
       " ('F', 'NF', 'NF', 'NF', 'NF', 'F', 'NF'),\n",
       " ('F', 'NF', 'NF', 'NF', 'NF', 'NF', 'F'),\n",
       " ('F', 'NF', 'NF', 'NF', 'NF', 'NF', 'NF'),\n",
       " ('NF', 'F', 'F', 'F', 'F', 'F', 'F'),\n",
       " ('NF', 'F', 'F', 'F', 'F', 'F', 'NF'),\n",
       " ('NF', 'F', 'F', 'F', 'F', 'NF', 'F'),\n",
       " ('NF', 'F', 'F', 'F', 'F', 'NF', 'NF'),\n",
       " ('NF', 'F', 'F', 'F', 'NF', 'F', 'F'),\n",
       " ('NF', 'F', 'F', 'F', 'NF', 'F', 'NF'),\n",
       " ('NF', 'F', 'F', 'F', 'NF', 'NF', 'F'),\n",
       " ('NF', 'F', 'F', 'F', 'NF', 'NF', 'NF'),\n",
       " ('NF', 'F', 'F', 'NF', 'F', 'F', 'F'),\n",
       " ('NF', 'F', 'F', 'NF', 'F', 'F', 'NF'),\n",
       " ('NF', 'F', 'F', 'NF', 'F', 'NF', 'F'),\n",
       " ('NF', 'F', 'F', 'NF', 'F', 'NF', 'NF'),\n",
       " ('NF', 'F', 'F', 'NF', 'NF', 'F', 'F'),\n",
       " ('NF', 'F', 'F', 'NF', 'NF', 'F', 'NF'),\n",
       " ('NF', 'F', 'F', 'NF', 'NF', 'NF', 'F'),\n",
       " ('NF', 'F', 'F', 'NF', 'NF', 'NF', 'NF'),\n",
       " ('NF', 'F', 'NF', 'F', 'F', 'F', 'F'),\n",
       " ('NF', 'F', 'NF', 'F', 'F', 'F', 'NF'),\n",
       " ('NF', 'F', 'NF', 'F', 'F', 'NF', 'F'),\n",
       " ('NF', 'F', 'NF', 'F', 'F', 'NF', 'NF'),\n",
       " ('NF', 'F', 'NF', 'F', 'NF', 'F', 'F'),\n",
       " ('NF', 'F', 'NF', 'F', 'NF', 'F', 'NF'),\n",
       " ('NF', 'F', 'NF', 'F', 'NF', 'NF', 'F'),\n",
       " ('NF', 'F', 'NF', 'F', 'NF', 'NF', 'NF'),\n",
       " ('NF', 'F', 'NF', 'NF', 'F', 'F', 'F'),\n",
       " ('NF', 'F', 'NF', 'NF', 'F', 'F', 'NF'),\n",
       " ('NF', 'F', 'NF', 'NF', 'F', 'NF', 'F'),\n",
       " ('NF', 'F', 'NF', 'NF', 'F', 'NF', 'NF'),\n",
       " ('NF', 'F', 'NF', 'NF', 'NF', 'F', 'F'),\n",
       " ('NF', 'F', 'NF', 'NF', 'NF', 'F', 'NF'),\n",
       " ('NF', 'F', 'NF', 'NF', 'NF', 'NF', 'F'),\n",
       " ('NF', 'F', 'NF', 'NF', 'NF', 'NF', 'NF'),\n",
       " ('NF', 'NF', 'F', 'F', 'F', 'F', 'F'),\n",
       " ('NF', 'NF', 'F', 'F', 'F', 'F', 'NF'),\n",
       " ('NF', 'NF', 'F', 'F', 'F', 'NF', 'F'),\n",
       " ('NF', 'NF', 'F', 'F', 'F', 'NF', 'NF'),\n",
       " ('NF', 'NF', 'F', 'F', 'NF', 'F', 'F'),\n",
       " ('NF', 'NF', 'F', 'F', 'NF', 'F', 'NF'),\n",
       " ('NF', 'NF', 'F', 'F', 'NF', 'NF', 'F'),\n",
       " ('NF', 'NF', 'F', 'F', 'NF', 'NF', 'NF'),\n",
       " ('NF', 'NF', 'F', 'NF', 'F', 'F', 'F'),\n",
       " ('NF', 'NF', 'F', 'NF', 'F', 'F', 'NF'),\n",
       " ('NF', 'NF', 'F', 'NF', 'F', 'NF', 'F'),\n",
       " ('NF', 'NF', 'F', 'NF', 'F', 'NF', 'NF'),\n",
       " ('NF', 'NF', 'F', 'NF', 'NF', 'F', 'F'),\n",
       " ('NF', 'NF', 'F', 'NF', 'NF', 'F', 'NF'),\n",
       " ('NF', 'NF', 'F', 'NF', 'NF', 'NF', 'F'),\n",
       " ('NF', 'NF', 'F', 'NF', 'NF', 'NF', 'NF'),\n",
       " ('NF', 'NF', 'NF', 'F', 'F', 'F', 'F'),\n",
       " ('NF', 'NF', 'NF', 'F', 'F', 'F', 'NF'),\n",
       " ('NF', 'NF', 'NF', 'F', 'F', 'NF', 'F'),\n",
       " ('NF', 'NF', 'NF', 'F', 'F', 'NF', 'NF'),\n",
       " ('NF', 'NF', 'NF', 'F', 'NF', 'F', 'F'),\n",
       " ('NF', 'NF', 'NF', 'F', 'NF', 'F', 'NF'),\n",
       " ('NF', 'NF', 'NF', 'F', 'NF', 'NF', 'F'),\n",
       " ('NF', 'NF', 'NF', 'F', 'NF', 'NF', 'NF'),\n",
       " ('NF', 'NF', 'NF', 'NF', 'F', 'F', 'F'),\n",
       " ('NF', 'NF', 'NF', 'NF', 'F', 'F', 'NF'),\n",
       " ('NF', 'NF', 'NF', 'NF', 'F', 'NF', 'F'),\n",
       " ('NF', 'NF', 'NF', 'NF', 'F', 'NF', 'NF'),\n",
       " ('NF', 'NF', 'NF', 'NF', 'NF', 'F', 'F'),\n",
       " ('NF', 'NF', 'NF', 'NF', 'NF', 'F', 'NF'),\n",
       " ('NF', 'NF', 'NF', 'NF', 'NF', 'NF', 'F'),\n",
       " ('NF', 'NF', 'NF', 'NF', 'NF', 'NF', 'NF')]"
      ]
     },
     "execution_count": 11,
     "metadata": {},
     "output_type": "execute_result"
    }
   ],
   "source": [
    "espaco_amostral1"
   ]
  },
  {
   "cell_type": "code",
   "execution_count": 12,
   "metadata": {
    "collapsed": false
   },
   "outputs": [
    {
     "data": {
      "text/plain": [
       "[7.812500000000004e-10,\n",
       " 1.4843750000000005e-08,\n",
       " 1.4843750000000007e-08,\n",
       " 2.820312500000001e-07,\n",
       " 1.4843750000000007e-08,\n",
       " 2.820312500000001e-07,\n",
       " 2.820312500000001e-07,\n",
       " 5.358593750000001e-06,\n",
       " 1.4843750000000007e-08,\n",
       " 2.820312500000001e-07,\n",
       " 2.820312500000001e-07,\n",
       " 5.358593750000001e-06,\n",
       " 2.820312500000001e-07,\n",
       " 5.358593750000001e-06,\n",
       " 5.358593750000001e-06,\n",
       " 0.00010181328125000001,\n",
       " 1.4843750000000007e-08,\n",
       " 2.820312500000001e-07,\n",
       " 2.820312500000001e-07,\n",
       " 5.358593750000001e-06,\n",
       " 2.820312500000001e-07,\n",
       " 5.358593750000001e-06,\n",
       " 5.358593750000001e-06,\n",
       " 0.00010181328125000001,\n",
       " 2.820312500000001e-07,\n",
       " 5.358593750000001e-06,\n",
       " 5.358593750000001e-06,\n",
       " 0.00010181328125000001,\n",
       " 5.358593750000001e-06,\n",
       " 0.00010181328125000001,\n",
       " 0.00010181328125000002,\n",
       " 0.0019344523437500002,\n",
       " 1.4843750000000007e-08,\n",
       " 2.820312500000001e-07,\n",
       " 2.820312500000001e-07,\n",
       " 5.358593750000001e-06,\n",
       " 2.820312500000001e-07,\n",
       " 5.358593750000001e-06,\n",
       " 5.358593750000001e-06,\n",
       " 0.00010181328125000001,\n",
       " 2.820312500000001e-07,\n",
       " 5.358593750000001e-06,\n",
       " 5.358593750000001e-06,\n",
       " 0.00010181328125000001,\n",
       " 5.358593750000001e-06,\n",
       " 0.00010181328125000001,\n",
       " 0.00010181328125000002,\n",
       " 0.0019344523437500002,\n",
       " 2.8203125e-07,\n",
       " 5.35859375e-06,\n",
       " 5.358593750000001e-06,\n",
       " 0.00010181328125,\n",
       " 5.358593750000001e-06,\n",
       " 0.00010181328125,\n",
       " 0.00010181328125,\n",
       " 0.0019344523437499997,\n",
       " 5.358593750000001e-06,\n",
       " 0.00010181328125,\n",
       " 0.00010181328125,\n",
       " 0.0019344523437499997,\n",
       " 0.00010181328125,\n",
       " 0.0019344523437499997,\n",
       " 0.0019344523437499997,\n",
       " 0.03675459453124999,\n",
       " 1.4843750000000007e-08,\n",
       " 2.820312500000001e-07,\n",
       " 2.820312500000001e-07,\n",
       " 5.358593750000001e-06,\n",
       " 2.820312500000001e-07,\n",
       " 5.358593750000001e-06,\n",
       " 5.358593750000001e-06,\n",
       " 0.00010181328125000001,\n",
       " 2.820312500000001e-07,\n",
       " 5.358593750000001e-06,\n",
       " 5.358593750000001e-06,\n",
       " 0.00010181328125000001,\n",
       " 5.358593750000001e-06,\n",
       " 0.00010181328125000001,\n",
       " 0.00010181328125000002,\n",
       " 0.0019344523437500002,\n",
       " 2.8203125e-07,\n",
       " 5.35859375e-06,\n",
       " 5.358593750000001e-06,\n",
       " 0.00010181328125,\n",
       " 5.358593750000001e-06,\n",
       " 0.00010181328125,\n",
       " 0.00010181328125,\n",
       " 0.0019344523437499997,\n",
       " 5.358593750000001e-06,\n",
       " 0.00010181328125,\n",
       " 0.00010181328125,\n",
       " 0.0019344523437499997,\n",
       " 0.00010181328125,\n",
       " 0.0019344523437499997,\n",
       " 0.0019344523437499997,\n",
       " 0.03675459453124999,\n",
       " 2.8203125e-07,\n",
       " 5.35859375e-06,\n",
       " 5.358593750000001e-06,\n",
       " 0.00010181328125,\n",
       " 5.358593750000001e-06,\n",
       " 0.00010181328125,\n",
       " 0.00010181328125,\n",
       " 0.0019344523437499997,\n",
       " 5.358593750000001e-06,\n",
       " 0.00010181328125,\n",
       " 0.00010181328125,\n",
       " 0.0019344523437499997,\n",
       " 0.00010181328125,\n",
       " 0.0019344523437499997,\n",
       " 0.0019344523437499997,\n",
       " 0.03675459453124999,\n",
       " 5.358593750000001e-06,\n",
       " 0.00010181328125,\n",
       " 0.00010181328125,\n",
       " 0.0019344523437499997,\n",
       " 0.00010181328125,\n",
       " 0.0019344523437499997,\n",
       " 0.0019344523437499997,\n",
       " 0.03675459453124999,\n",
       " 0.00010181328125,\n",
       " 0.0019344523437499997,\n",
       " 0.0019344523437500002,\n",
       " 0.03675459453125,\n",
       " 0.0019344523437499997,\n",
       " 0.03675459453124999,\n",
       " 0.03675459453124999,\n",
       " 0.6983372960937497]"
      ]
     },
     "execution_count": 12,
     "metadata": {},
     "output_type": "execute_result"
    }
   ],
   "source": [
    "prob_linhas1 = []\n",
    "\n",
    "for res in espaco_amostral1:\n",
    "    p = 1.0\n",
    "    for e in res:\n",
    "        p*=prob[e]\n",
    "    prob_linhas1.append(p)\n",
    "\n",
    "prob_linhas1"
   ]
  },
  {
   "cell_type": "markdown",
   "metadata": {},
   "source": [
    "B)"
   ]
  },
  {
   "cell_type": "code",
   "execution_count": 13,
   "metadata": {
    "collapsed": false
   },
   "outputs": [
    {
     "name": "stdout",
     "output_type": "stream",
     "text": [
      "Falhas:  0  Probabilidade 0.69834 \n",
      "Falhas:  1  Probabilidade 0.25728 \n",
      "Falhas:  2  Probabilidade 0.04062 \n",
      "Falhas:  3  Probabilidade 0.00356 \n",
      "Falhas:  4  Probabilidade 0.00019 \n",
      "Falhas:  5  Probabilidade 0.00001 \n",
      "Falhas:  6  Probabilidade 0.00000 \n",
      "Falhas:  7  Probabilidade 0.00000 \n"
     ]
    }
   ],
   "source": [
    "Y1 = {}\n",
    "for i in range(len(espaco_amostral1)):\n",
    "    Falhas1 = espaco_amostral1[i].count(\"F\")\n",
    "    # Checar antes se a chave está no dicionário\n",
    "    if Falhas1 in Y1:\n",
    "        Y1[Falhas1] += prob_linhas1[i]\n",
    "    else:\n",
    "        Y1[Falhas1] = prob_linhas1[i]\n",
    "for k in Y1:\n",
    "    print(\"Falhas: \", k, \" Probabilidade\", \"%6.5f \"%Y1[k])\n",
    "    "
   ]
  },
  {
   "cell_type": "markdown",
   "metadata": {},
   "source": [
    "C)"
   ]
  },
  {
   "cell_type": "code",
   "execution_count": 14,
   "metadata": {
    "collapsed": false
   },
   "outputs": [
    {
     "name": "stdout",
     "output_type": "stream",
     "text": [
      "A media de falhar os resistores em um pacote é:  0.35\n"
     ]
    }
   ],
   "source": [
    "MediaY1= 0\n",
    "for k in Y1:\n",
    "    MediaY1+=(Y1[k]*k)\n",
    "print (\"A media de falhar os resistores em um pacote é: \", MediaY1)"
   ]
  },
  {
   "cell_type": "code",
   "execution_count": 15,
   "metadata": {
    "collapsed": false
   },
   "outputs": [
    {
     "name": "stdout",
     "output_type": "stream",
     "text": [
      "O desvio padrão dos resistores falharem em um pacote é de:  0.5766281297335397\n"
     ]
    }
   ],
   "source": [
    "DP1=0\n",
    "for k,v in Y1.items():\n",
    "    DP1+=((k-MediaY1)**2)*v\n",
    "print(\"O desvio padrão dos resistores falharem em um pacote é de: \",(DP1**0.5))"
   ]
  },
  {
   "cell_type": "markdown",
   "metadata": {},
   "source": [
    "Exercicio 1, parte 3"
   ]
  },
  {
   "cell_type": "markdown",
   "metadata": {},
   "source": [
    "Para pacotes com tres resistores temos:"
   ]
  },
  {
   "cell_type": "code",
   "execution_count": 16,
   "metadata": {
    "collapsed": false
   },
   "outputs": [
    {
     "name": "stdout",
     "output_type": "stream",
     "text": [
      "Probabilidade:0.857375\n",
      "A média é: 0.15000000000000002, a variância é: 0.14250000000000002 e o desvio padrão é: 0.3774917217635375 \n"
     ]
    }
   ],
   "source": [
    "ProbY=stats.binom.pmf(0, 3, 0.05)\n",
    "print ('Probabilidade:{0}'.format(ProbY))\n",
    "\n",
    "E, Var=stats.binom.stats(3, 0.05, moments='mv')\n",
    "print ('A média é: {0}, a variância é: {1} e o desvio padrão é: {2} '.format(E,Var,Var**0.5))"
   ]
  },
  {
   "cell_type": "markdown",
   "metadata": {},
   "source": [
    "Para pacotes com sete resistores temos:"
   ]
  },
  {
   "cell_type": "code",
   "execution_count": 17,
   "metadata": {
    "collapsed": false
   },
   "outputs": [
    {
     "name": "stdout",
     "output_type": "stream",
     "text": [
      "Probabilidade:0.69833729609375\n",
      "A média é: 0.35000000000000003, a variância é: 0.3325 e o desvio padrão é: 0.5766281297335398 \n"
     ]
    }
   ],
   "source": [
    "ProbY1=stats.binom.pmf(0, 7, 0.05)\n",
    "print ('Probabilidade:{0}'.format(ProbY1))\n",
    "\n",
    "E1, Var1=stats.binom.stats(7, 0.05, moments='mv')\n",
    "print ('A média é: {0}, a variância é: {1} e o desvio padrão é: {2} '.format(E1,Var1,Var1**0.5))"
   ]
  },
  {
   "cell_type": "markdown",
   "metadata": {
    "collapsed": true
   },
   "source": [
    "___\n",
    "## <font color='blue'>Exercício 2</font>\n",
    "\n",
    "Uma fábrica produz determinado veículo. O gerente de vendas fechou um negócio que implica na produção de pelo menos 110 unidades nos próximos dois meses. Para isso, será construída uma nova linha de montagem com capacidade para produzir em média 50 veículos por mês (considere meses de 30 dias). A linha funcionará ininterruptamente. Além disso, apenas um veículo é produzido por vez. Considere que um modelo Poisson seja adequado para a quantidade de veículos produzidos.\n",
    "   1. Qual a probabilidade  da produção ser igual a 100 veículos nos próximos dois meses?\n",
    "   2. Qual a probabilidade  da produção ser de pelo menos 100 veículos nos próximos dois meses?\n",
    "   3. Qual a probabilidade da produção ser entre 100 e 110 veículos nos próximos dois meses?\n",
    "   4. Se forem produzidos de pelo menos 100 veículos no próximo mês, qual a probabilidade do gerente cumprir a meta negociada?\n",
    "   5. Caso o prazo seja cumprido, o lucro será da ordem de $250$ mil, caso não seja, o lucro cai para $200$ mil. Qual é o lucro esperado e seu desvio-padrão?\n",
    "\n",
    "**Observação:** Explore os comandos de `stats.poisson`. <sup>[http://docs.scipy.org/doc/scipy/reference/generated/scipy.stats.poisson.html]\n"
   ]
  },
  {
   "cell_type": "markdown",
   "metadata": {},
   "source": [
    "1=3,986\n",
    "2=51,33\n",
    "3=36,62\n",
    "4=33,23"
   ]
  },
  {
   "cell_type": "code",
   "execution_count": null,
   "metadata": {
    "collapsed": true
   },
   "outputs": [],
   "source": [
    "igual=stats.poisson.pmf(100,100)\n",
    "print ('A probabilidade da produção ser igual a ')"
   ]
  },
  {
   "cell_type": "code",
   "execution_count": null,
   "metadata": {
    "collapsed": true
   },
   "outputs": [],
   "source": [
    "maior=1 -stats.poisson.cdf(99,100)"
   ]
  },
  {
   "cell_type": "markdown",
   "metadata": {},
   "source": [
    "___\n",
    "## <font color='blue'>Exercício 3</font> \n",
    "### <font color='red'>**Check para dia 13/09 em DUPLA **</font>\n",
    "\n",
    "Esse exercício irá explorar uma modelagem de dados reais.\n",
    "\n",
    "> **Confira alguns itens obrigatórios verificados durante a vistoria do Detran**\n",
    "\n",
    "> *Todos os veículos, novos ou velhos, precisam passar por uma vistoria todos os anos. (...) O motorista precisa estar atento a alguns itens obrigatórios. Tudo deve funcionar perfeitamente, apresentar bom estado de conservação e estar dentro do prazo de validade.*\n",
    "\n",
    "> <sup>Fonte: http://extra.globo.com/noticias/brasil/transito-seguro/confira-alguns-itens-obrigatorios-verificados-durante-vistoria-do-detran-10190355.html</sup>\n",
    "\n",
    "Essa matéria lista 14 itens que são inspecionados pelo Detran, dentre os quais têm-se: extintor de incêndio deve estar dentro do prazo de validade; pneus devem estar em bom estado de conservação; buzina deve funcionar perfeitamente; e cintos de segurança para todos os ocupantes do carro. Se, no final das contas, todos os 14 itens estiverem funcionando perfeitamente, o motorista irá feliz para casa assegurado de que seu carro está sem problemas com a vistoria.\n",
    "\n",
    "1. A base de dados `Carros.txt` apresenta, para cada um dos três mil carros de passeio vistoriados, duas informações: tipo de carro (1: Popular e 2: Não Popular) e quantidade de itens vistoriados em não conformidade (que pode variar de 0 a 14). \n",
    "    1. Considerando todos os carros, analise a quantidade de itens vistoriados em não conformidade. Pela tabela de frequências relativas, calcule a média e variância dessa quantidade. Interprete-os.\n",
    "    2. Assuma que a variável *Quantidade de itens em não conformidade* possa ser ajustada pelo modelo Binomial com parâmetros $n=14$ e $p=0,10$. Interprete esses parâmetros para o problema em questão e, ainda, discuta se as propriedades da distribuição Binomial estão satisfeitas para o problema aqui me questão.\n",
    "    \n",
    "    **Independente da sua resposta anterior, considere que a distribuição binomial seja adequada para modelar a variável de interesse nos próximos itens!**\n",
    "    3. Utilizando o método `stats.binom.pmf`, obtenha a probabilidade de cada uma das quantidades de itens em não conformidade quando $n=14$ e $p=0,10$. Calcule o valor esperado e a variância da quantidade de itens em não conformidade utilizando o método `stats.binom.stats` e via resultado da Tabela 4.4 do Magalhães e Lima (pág. 125).\n",
    "    4. Compare as probabilidades teóricas com as frequências relativas observadas nos dados. Para isso, tem-se, por exemplo, as duas opções abaixo para comparar se os resultados empíricos se encaixam com o modelo teórico proposto. \n",
    "        - A primeira opção gráfica contrasta a frequência relativa e a probabilidade teórica para uma determinada quantidade de itens em não conformidade! Vide Figura 3.4 do livro Magalhães e Lima (pág. 87). Ou seja, essa opção contrasta a frequência relativa em um valor de $y$ e a probabilidade pontual $P(Y=y)$.\n",
    "        - A segunda contrasta a frequência relativa acumulada com a probabilidade acumulada até determinada quantidade de itens em não conformidade. Ou seja, compara a frequência relativa acumulada até $y$ com a probabilidade acumulada $P(Y\\leq y)$.\n",
    "    Construa os gráficos de acordo com as duas opções e refine sua conclusão quanto ao uso do modelo teórico para ajustar a variável em questão!\n",
    "    5. Na prática, qual a necessidade de um modelo probabilístico já que se têm os dados observados?\n",
    "    6. Considerando apenas os carros populares, o modelo Binomial com parâmetros $n=14$ e $p=0,10$ é adequado para ajustar a variável Quantidade de itens em não conformidade? Se sim, justifique; caso não, sugira novos valores para os parâmetros da distribuição ajuste aos dados."
   ]
  },
  {
   "cell_type": "code",
   "execution_count": null,
   "metadata": {
    "collapsed": false
   },
   "outputs": [],
   "source": [
    "import os\n",
    "print('Esperamos trabalhar no diretório')\n",
    "print(os.getcwd())\n",
    "carros = pd.read_table('Carros.txt', sep=' ')"
   ]
  },
  {
   "cell_type": "code",
   "execution_count": null,
   "metadata": {
    "collapsed": true
   },
   "outputs": [],
   "source": []
  }
 ],
 "metadata": {
  "anaconda-cloud": {},
  "kernelspec": {
   "display_name": "Python [Root]",
   "language": "python",
   "name": "Python [Root]"
  },
  "language_info": {
   "codemirror_mode": {
    "name": "ipython",
    "version": 3
   },
   "file_extension": ".py",
   "mimetype": "text/x-python",
   "name": "python",
   "nbconvert_exporter": "python",
   "pygments_lexer": "ipython3",
   "version": "3.5.2"
  }
 },
 "nbformat": 4,
 "nbformat_minor": 0
}
