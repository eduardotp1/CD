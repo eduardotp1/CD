{
 "cells": [
  {
   "cell_type": "markdown",
   "metadata": {},
   "source": [
    "# Miniprojeto 2"
   ]
  },
  {
   "cell_type": "markdown",
   "metadata": {},
   "source": [
    "## <font color='red'>Eduardo Tirta Prawita</font>\n",
    "___"
   ]
  },
  {
   "cell_type": "markdown",
   "metadata": {},
   "source": [
    "## <font color='blue'>Distribuição Qui-Quadrado</font>"
   ]
  },
  {
   "cell_type": "code",
   "execution_count": 1,
   "metadata": {
    "collapsed": true
   },
   "outputs": [],
   "source": [
    "%matplotlib inline\n",
    "import pandas as pd\n",
    "import matplotlib.pyplot as plt\n",
    "import numpy as np\n",
    "import os\n",
    "from scipy import stats\n"
   ]
  },
  {
   "cell_type": "code",
   "execution_count": 2,
   "metadata": {
    "collapsed": true
   },
   "outputs": [],
   "source": [
    "#item 1.a\n",
    "df=3 #função de densidade(este número foi escolhido aleatoriamente)"
   ]
  },
  {
   "cell_type": "code",
   "execution_count": 3,
   "metadata": {
    "collapsed": true
   },
   "outputs": [],
   "source": [
    "#item 1.b (Neste item, é gerado valores que se comportam como o Qui-Quadrado)\n",
    "dist=stats.chi2.rvs(df, size=1000000, random_state=None)"
   ]
  },
  {
   "cell_type": "code",
   "execution_count": 4,
   "metadata": {
    "collapsed": false
   },
   "outputs": [
    {
     "name": "stdout",
     "output_type": "stream",
     "text": [
      "A média populacional é: 2.998764909417366 e a variância é: 5.996258427583992\n"
     ]
    }
   ],
   "source": [
    "#item 1.c\n",
    "mu=np.mean(dist)\n",
    "var=np.var(dist)\n",
    "print('A média populacional é: {0} e a variância é: {1}'.format(mu,var))"
   ]
  },
  {
   "cell_type": "markdown",
   "metadata": {},
   "source": [
    "###### Podemos perceber que a média é próxima do valor df e a variância seria praticamente o dobro da média"
   ]
  },
  {
   "cell_type": "markdown",
   "metadata": {},
   "source": [
    "## n=2"
   ]
  },
  {
   "cell_type": "code",
   "execution_count": 5,
   "metadata": {
    "collapsed": false
   },
   "outputs": [],
   "source": [
    "#item 2.a até 2.d\n",
    "amostra2=[]\n",
    "for k in range (0,10000):\n",
    "    sorte2=[]\n",
    "    for i in (0,2):\n",
    "        sorte2.append(np.random.choice(dist))\n",
    "    media2=np.mean(sorte2)\n",
    "    amostra2.append(media2)"
   ]
  },
  {
   "cell_type": "code",
   "execution_count": 6,
   "metadata": {
    "collapsed": false
   },
   "outputs": [
    {
     "data": {
      "image/png": "[encoded data removed]",
      "text/plain": [
       "<matplotlib.figure.Figure at 0x22b95d0aa90>"
      ]
     },
     "metadata": {},
     "output_type": "display_data"
    },
    {
     "name": "stdout",
     "output_type": "stream",
     "text": [
      "A média da distribuição, sorteado dos gerados anteriormente, como n=2 é: 3.0085101355070205 e a variância é :1.5435101183929374\n"
     ]
    }
   ],
   "source": [
    "#item 2.e\n",
    "t = np.linspace(0,10,10000)\n",
    "plt.hist(amostra2, bins=50, normed=1)\n",
    "plt.title('Gráfico das médias amostrais com n=2')\n",
    "plt.xlabel(\"Médias\")\n",
    "plt.ylabel(\"Frequência relativa\")\n",
    "plt.show()\n",
    "print(\"A média da distribuição, sorteado dos gerados anteriormente, como n=2 é: {0} e a variância é :{1}\".format(np.mean(amostra2),np.var(amostra2)/2))"
   ]
  },
  {
   "cell_type": "markdown",
   "metadata": {},
   "source": [
    "#### Percebemos que ao fazer a média amostral com n=2, sua média se aproxima da populacional, enquanto a variância é, aproximadamente, a metade. "
   ]
  },
  {
   "cell_type": "markdown",
   "metadata": {},
   "source": [
    "## n=4"
   ]
  },
  {
   "cell_type": "code",
   "execution_count": 7,
   "metadata": {
    "collapsed": false
   },
   "outputs": [
    {
     "data": {
      "image/png": "[encoded data removed]",
      "text/plain": [
       "<matplotlib.figure.Figure at 0x22b961c50f0>"
      ]
     },
     "metadata": {},
     "output_type": "display_data"
    },
    {
     "name": "stdout",
     "output_type": "stream",
     "text": [
      "A média da distribuição, sorteado dos gerados anteriormente, como n=4 é: 3.00205853972949 e a variância é :1.4667243435299726\n"
     ]
    }
   ],
   "source": [
    "amostra4=[]\n",
    "for k in range (0,10000):\n",
    "    sorte4=[]\n",
    "    for i in range (0,4):\n",
    "        sorte4.append(np.random.choice(dist))\n",
    "    media4=np.mean(sorte4)\n",
    "    amostra4.append(media4)\n",
    "plt.hist(amostra4, bins=50, normed=1)\n",
    "plt.title('Gráfico das médias amostrais com n=4')\n",
    "plt.xlabel(\"Médias\")\n",
    "plt.ylabel(\"Frequência relativa\")\n",
    "plt.show()\n",
    "print(\"A média da distribuição, sorteado dos gerados anteriormente, como n=4 é: {0} e a variância é :{1}\".format(np.mean(amostra4),np.var(amostra4)))"
   ]
  },
  {
   "cell_type": "markdown",
   "metadata": {},
   "source": [
    "#### Percebemos que ao fazer a média amostral com n=4, sua média se aproxima da populacional, enquanto a variância é, aproximadamente, um quarto, ou seja, ao n. Além de começar a tender para uma normal "
   ]
  },
  {
   "cell_type": "markdown",
   "metadata": {},
   "source": [
    "## n=20"
   ]
  },
  {
   "cell_type": "code",
   "execution_count": 8,
   "metadata": {
    "collapsed": false
   },
   "outputs": [
    {
     "data": {
      "image/png": "[encoded data removed]",
      "text/plain": [
       "<matplotlib.figure.Figure at 0x22b967a33c8>"
      ]
     },
     "metadata": {},
     "output_type": "display_data"
    },
    {
     "name": "stdout",
     "output_type": "stream",
     "text": [
      "A média da distribuição, sorteado dos gerados anteriormente, como n=20 é: 2.987422445538627 e a variância é :0.29692601808911884\n"
     ]
    }
   ],
   "source": [
    "amostra20=[]\n",
    "for k in range (0,10000):\n",
    "    sorte20=[]\n",
    "    for i in range (0,20):\n",
    "        sorte20.append(np.random.choice(dist))\n",
    "    media20=np.mean(sorte20)\n",
    "    amostra20.append(media20)\n",
    "plt.hist(amostra20, bins=50, normed=1)\n",
    "plt.title('Gráfico das médias amostrais com n=20')\n",
    "plt.xlabel(\"Médias\")\n",
    "plt.ylabel(\"Frequência relativa\")\n",
    "plt.show()\n",
    "print(\"A média da distribuição, sorteado dos gerados anteriormente, como n=20 é: {0} e a variância é :{1}\".format(np.mean(amostra20),np.var(amostra20)))"
   ]
  },
  {
   "cell_type": "markdown",
   "metadata": {},
   "source": [
    "#### Percebemos que ao fazer a média amostral com n=20, sua média se aproxima da populacional, enquanto a variância é, aproximadamente, um sobre vinte, ou seja, ao n. Além de quase ser uma normal "
   ]
  },
  {
   "cell_type": "markdown",
   "metadata": {},
   "source": [
    "## n=50"
   ]
  },
  {
   "cell_type": "code",
   "execution_count": 9,
   "metadata": {
    "collapsed": false
   },
   "outputs": [
    {
     "data": {
      "image/png": "[encoded data removed]",
      "text/plain": [
       "<matplotlib.figure.Figure at 0x22b968f9550>"
      ]
     },
     "metadata": {},
     "output_type": "display_data"
    },
    {
     "name": "stdout",
     "output_type": "stream",
     "text": [
      "A média da distribuição, sorteado dos gerados anteriormente, como n=50 é: 3.0004640712495494 e a variância é :0.12409265014659268\n"
     ]
    }
   ],
   "source": [
    "amostra50=[]\n",
    "X1=[]\n",
    "X2=[]\n",
    "for k in range (0,10000):\n",
    "    sorte50=[]\n",
    "    for i in range (0,50):\n",
    "        x=np.random.choice(dist)\n",
    "        sorte50.append(x)\n",
    "        if i==0:\n",
    "            X1.append(x)\n",
    "        if i==8:\n",
    "            X2.append(x)\n",
    "    media50=np.mean(sorte50)\n",
    "    amostra50.append(media50)\n",
    "    \n",
    "plt.hist(amostra50, bins=50, normed=1)\n",
    "plt.title('Gráfico das médias amostrais com n=50')\n",
    "plt.xlabel(\"Médias\")\n",
    "plt.ylabel(\"Frequência relativa\")\n",
    "plt.show()\n",
    "print(\"A média da distribuição, sorteado dos gerados anteriormente, como n=50 é: {0} e a variância é :{1}\".format(np.mean(amostra50),np.var(amostra50)))"
   ]
  },
  {
   "cell_type": "markdown",
   "metadata": {},
   "source": [
    "#### Percebemos que ao fazer a média amostral com n=2, sua média se aproxima da populacional, enquanto a variância é, aproximadamente, um sobre cinquenta, ou seja, ao n. Podendo dizer que é uma normal."
   ]
  },
  {
   "cell_type": "markdown",
   "metadata": {},
   "source": [
    "### Observando os itens, podemos dizer que a média da média amostral sempre será igual a média populacional e a variância da média amostral sempre será a variância populacional dividido pelo n, e assim, temos uma variância tendendo a 0, o que faz com que a distribuição da média amostral tende a uma normal quando o n é um valor alto."
   ]
  },
  {
   "cell_type": "markdown",
   "metadata": {},
   "source": [
    "# Conclusões gerais do TLC"
   ]
  },
  {
   "cell_type": "markdown",
   "metadata": {},
   "source": [
    "## <font color='blue'>O que é o TLC?</font>"
   ]
  },
  {
   "cell_type": "markdown",
   "metadata": {},
   "source": [
    "##### O TLC é o Teorema do Limite Central, este fala que para uma variável aleatória qualquer, podendo ser de qualquer distribuição, tendo uma média e uma variância, ao tirarmos uma média amostral, esta vai ter a média igual a da variável aleátoria e a variância será a variância da variável divido pelo número de amostras coletadas. "
   ]
  },
  {
   "cell_type": "markdown",
   "metadata": {},
   "source": [
    "## <font color='blue'>E o que o TLC mostra?</font>"
   ]
  },
  {
   "cell_type": "markdown",
   "metadata": {},
   "source": [
    "#### Sabendo das informações acima, temos que, para uma quantidade de amostras maiores, temos uma tendência da distribuição da média amostral ser uma normal."
   ]
  },
  {
   "cell_type": "markdown",
   "metadata": {},
   "source": [
    "## <font color='red'>Aprofundamento no Teorema</font>"
   ]
  },
  {
   "cell_type": "code",
   "execution_count": 10,
   "metadata": {
    "collapsed": false
   },
   "outputs": [
    {
     "data": {
      "image/png": "[encoded data removed]",
      "text/plain": [
       "<matplotlib.figure.Figure at 0x22b9684f550>"
      ]
     },
     "metadata": {},
     "output_type": "display_data"
    }
   ],
   "source": [
    "plt.hist(X1, bins=50, normed=1)\n",
    "plt.title('Primeiros Valores Sortidos')\n",
    "plt.xlabel(\"Valores\")\n",
    "plt.ylabel(\"Frequência relativa\")\n",
    "plt.show()"
   ]
  },
  {
   "cell_type": "code",
   "execution_count": 11,
   "metadata": {
    "collapsed": false
   },
   "outputs": [
    {
     "data": {
      "image/png": "[encoded data removed]",
      "text/plain": [
       "<matplotlib.figure.Figure at 0x22b9681fc88>"
      ]
     },
     "metadata": {},
     "output_type": "display_data"
    }
   ],
   "source": [
    "plt.hist(X2, bins=50, normed=1)\n",
    "plt.title('Nonos Valores Sortidos')\n",
    "plt.xlabel(\"Valores\")\n",
    "plt.ylabel(\"Frequência relativa\")\n",
    "plt.show()"
   ]
  },
  {
   "cell_type": "code",
   "execution_count": 12,
   "metadata": {
    "collapsed": false
   },
   "outputs": [
    {
     "data": {
      "text/plain": [
       "<function matplotlib.pyplot.show>"
      ]
     },
     "execution_count": 12,
     "metadata": {},
     "output_type": "execute_result"
    },
    {
     "data": {
      "image/png": "[encoded data removed]",
      "text/plain": [
       "<matplotlib.figure.Figure at 0x22b95d29ba8>"
      ]
     },
     "metadata": {},
     "output_type": "display_data"
    }
   ],
   "source": [
    "plt.hist(X1, bins=50, normed=1, alpha=0.75)\n",
    "plt.title('Comparando')\n",
    "plt.xlabel(\"Valores\")\n",
    "plt.ylabel(\"Frequência relativa\")\n",
    "plt.hist(X2, bins=50, normed=1,color='red',alpha=0.5)\n",
    "plt.plot(t,stats.chi2.pdf(t, df, loc=0, scale=1),color='black')\n",
    "plt.show"
   ]
  },
  {
   "cell_type": "markdown",
   "metadata": {},
   "source": [
    "##### Comparando os gráficos podemos que são bem parecidos, e seguem a distribuição qui-quadrado."
   ]
  },
  {
   "cell_type": "code",
   "execution_count": 13,
   "metadata": {
    "collapsed": false
   },
   "outputs": [
    {
     "name": "stdout",
     "output_type": "stream",
     "text": [
      "A correlação entre os primeiros e os nonos valores é: 0.006749968342250774, o que indica forte independência entre elas, comprovando que são aleatórias.\n"
     ]
    }
   ],
   "source": [
    "Cov=0\n",
    "for i in range(len(X1)):\n",
    "    Cov+=(X1[i]-np.mean(X1))*(X2[i]-np.mean(X2))/(len(X1))\n",
    "Cor=Cov/(np.var(X1)*np.var(X2))**0.5\n",
    "print(\"A correlação entre os primeiros e os nonos valores é: {0}, o que indica forte independência entre elas, comprovando que são aleatórias.\".format(Cor))"
   ]
  },
  {
   "cell_type": "code",
   "execution_count": null,
   "metadata": {
    "collapsed": true
   },
   "outputs": [],
   "source": []
  }
 ],
 "metadata": {
  "kernelspec": {
   "display_name": "Python [Root]",
   "language": "python",
   "name": "Python [Root]"
  },
  "language_info": {
   "codemirror_mode": {
    "name": "ipython",
    "version": 3
   },
   "file_extension": ".py",
   "mimetype": "text/x-python",
   "name": "python",
   "nbconvert_exporter": "python",
   "pygments_lexer": "ipython3",
   "version": "3.5.2"
  }
 },
 "nbformat": 4,
 "nbformat_minor": 0
}
