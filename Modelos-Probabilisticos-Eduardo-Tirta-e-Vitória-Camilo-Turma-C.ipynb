{
 "cells": [
  {
   "cell_type": "markdown",
   "metadata": {},
   "source": [
    "___\n",
    "# Atividade: Modelos probabilísticos discretos e Dados\n",
    "___\n",
    "\n",
    "## Aula 10 - <font color=\"red\">Eduardo Tirta e Vitória Camilo - Engenharia 2C</font> \n",
    "\n",
    "**Referência de Leitura:**\n",
    "1. Magalhães e Lima (7ª. Edição): Seções 3.2 e 3.3\n",
    "\n",
    "**Hoje:**\n",
    "1.\tDescrever modelos discretos quanto aos resultados teóricos.\n",
    "2.\tExplicar a utilização de modelos probabilísticos no contexto da literatura estatística.\n",
    "3.\tContrastar resultados teóricos e empíricos.\n",
    "4.\tFechamento do conteúdo.\n",
    "\n",
    "**Próxima aula:**\n",
    "1. Leitura prévia necessária: Magalhães e Lima (7ª. Edição): Seção 5.1 (pág. 137) e Seção 5.2 (pág. 146).\n",
    "___"
   ]
  },
  {
   "cell_type": "code",
   "execution_count": 2,
   "metadata": {
    "collapsed": true
   },
   "outputs": [],
   "source": [
    "%matplotlib inline\n",
    "import pandas as pd\n",
    "import matplotlib.pyplot as plt\n",
    "import math\n",
    "\n",
    "from scipy import stats #importa apenas as funções de estatísticas da biblioteca SciPy.\n",
    "import itertools #importante para gerar todos os resultados possíveis!!\n"
   ]
  },
  {
   "cell_type": "markdown",
   "metadata": {},
   "source": [
    "___\n",
    "## <font color='blue'>Exercício 3</font> \n",
    "### <font color='red'>**Check para dia 13/09 em DUPLA **</font>\n",
    "\n",
    "Esse exercício irá explorar uma modelagem de dados reais.\n",
    "\n",
    "> **Confira alguns itens obrigatórios verificados durante a vistoria do Detran**\n",
    "\n",
    "> *Todos os veículos, novos ou velhos, precisam passar por uma vistoria todos os anos. (...) O motorista precisa estar atento a alguns itens obrigatórios. Tudo deve funcionar perfeitamente, apresentar bom estado de conservação e estar dentro do prazo de validade.*\n",
    "\n",
    "> <sup>Fonte: http://extra.globo.com/noticias/brasil/transito-seguro/confira-alguns-itens-obrigatorios-verificados-durante-vistoria-do-detran-10190355.html</sup>\n",
    "\n",
    "Essa matéria lista 14 itens que são inspecionados pelo Detran, dentre os quais têm-se: extintor de incêndio deve estar dentro do prazo de validade; pneus devem estar em bom estado de conservação; buzina deve funcionar perfeitamente; e cintos de segurança para todos os ocupantes do carro. Se, no final das contas, todos os 14 itens estiverem funcionando perfeitamente, o motorista irá feliz para casa assegurado de que seu carro está sem problemas com a vistoria.\n",
    "\n",
    "1. A base de dados `Carros.txt` apresenta, para cada um dos três mil carros de passeio vistoriados, duas informações: tipo de carro (1: Popular e 2: Não Popular) e quantidade de itens vistoriados em não conformidade (que pode variar de 0 a 14). \n",
    "    1. Considerando todos os carros, analise a quantidade de itens vistoriados em não conformidade. Pela tabela de frequências relativas, calcule a média e variância dessa quantidade. Interprete-os.\n",
    "    2. Assuma que a variável *Quantidade de itens em não conformidade* possa ser ajustada pelo modelo Binomial com parâmetros $n=14$ e $p=0,10$. Interprete esses parâmetros para o problema em questão e, ainda, discuta se as propriedades da distribuição Binomial estão satisfeitas para o problema aqui me questão.\n",
    "    \n",
    "    **Independente da sua resposta anterior, considere que a distribuição binomial seja adequada para modelar a variável de interesse nos próximos itens!**\n",
    "    3. Utilizando o método `stats.binom.pmf`, obtenha a probabilidade de cada uma das quantidades de itens em não conformidade quando $n=14$ e $p=0,10$. Calcule o valor esperado e a variância da quantidade de itens em não conformidade utilizando o método `stats.binom.stats` e via resultado da Tabela 4.4 do Magalhães e Lima (pág. 125).\n",
    "    4. Compare as probabilidades teóricas com as frequências relativas observadas nos dados. Para isso, tem-se, por exemplo, as duas opções abaixo para comparar se os resultados empíricos se encaixam com o modelo teórico proposto. \n",
    "        - A primeira opção gráfica contrasta a frequência relativa e a probabilidade teórica para uma determinada quantidade de itens em não conformidade! Vide Figura 3.4 do livro Magalhães e Lima (pág. 87). Ou seja, essa opção contrasta a frequência relativa em um valor de $y$ e a probabilidade pontual $P(Y=y)$.\n",
    "        - A segunda contrasta a frequência relativa acumulada com a probabilidade acumulada até determinada quantidade de itens em não conformidade. Ou seja, compara a frequência relativa acumulada até $y$ com a probabilidade acumulada $P(Y\\leq y)$.\n",
    "    Construa os gráficos de acordo com as duas opções e refine sua conclusão quanto ao uso do modelo teórico para ajustar a variável em questão!\n",
    "    5. Na prática, qual a necessidade de um modelo probabilístico já que se têm os dados observados?\n",
    "    6. Considerando apenas os carros populares, o modelo Binomial com parâmetros $n=14$ e $p=0,10$ é adequado para ajustar a variável Quantidade de itens em não conformidade? Se sim, justifique; caso não, sugira novos valores para os parâmetros da distribuição ajuste aos dados."
   ]
  },
  {
   "cell_type": "code",
   "execution_count": 3,
   "metadata": {
    "collapsed": false
   },
   "outputs": [
    {
     "name": "stdout",
     "output_type": "stream",
     "text": [
      "Esperamos trabalhar no diretório\n",
      "C:\\Users\\Vitória\\Documents\\GitHub\\CD\\aula10\n"
     ]
    }
   ],
   "source": [
    "import os\n",
    "import numpy as np\n",
    "print('Esperamos trabalhar no diretório')\n",
    "print(os.getcwd())\n",
    "carros = pd.read_table('Carros.txt', sep=' ')"
   ]
  },
  {
   "cell_type": "code",
   "execution_count": 4,
   "metadata": {
    "collapsed": false
   },
   "outputs": [
    {
     "data": {
      "text/html": [
       "<div>\n",
       "<table border=\"1\" class=\"dataframe\">\n",
       "  <thead>\n",
       "    <tr style=\"text-align: right;\">\n",
       "      <th></th>\n",
       "      <th>Tipo</th>\n",
       "      <th>Quantidade</th>\n",
       "    </tr>\n",
       "  </thead>\n",
       "  <tbody>\n",
       "    <tr>\n",
       "      <th>count</th>\n",
       "      <td>3000.00000</td>\n",
       "      <td>3000.000000</td>\n",
       "    </tr>\n",
       "    <tr>\n",
       "      <th>mean</th>\n",
       "      <td>1.40000</td>\n",
       "      <td>1.371333</td>\n",
       "    </tr>\n",
       "    <tr>\n",
       "      <th>std</th>\n",
       "      <td>0.48998</td>\n",
       "      <td>1.256969</td>\n",
       "    </tr>\n",
       "    <tr>\n",
       "      <th>min</th>\n",
       "      <td>1.00000</td>\n",
       "      <td>0.000000</td>\n",
       "    </tr>\n",
       "    <tr>\n",
       "      <th>25%</th>\n",
       "      <td>1.00000</td>\n",
       "      <td>0.000000</td>\n",
       "    </tr>\n",
       "    <tr>\n",
       "      <th>50%</th>\n",
       "      <td>1.00000</td>\n",
       "      <td>1.000000</td>\n",
       "    </tr>\n",
       "    <tr>\n",
       "      <th>75%</th>\n",
       "      <td>2.00000</td>\n",
       "      <td>2.000000</td>\n",
       "    </tr>\n",
       "    <tr>\n",
       "      <th>max</th>\n",
       "      <td>2.00000</td>\n",
       "      <td>8.000000</td>\n",
       "    </tr>\n",
       "  </tbody>\n",
       "</table>\n",
       "</div>"
      ],
      "text/plain": [
       "             Tipo   Quantidade\n",
       "count  3000.00000  3000.000000\n",
       "mean      1.40000     1.371333\n",
       "std       0.48998     1.256969\n",
       "min       1.00000     0.000000\n",
       "25%       1.00000     0.000000\n",
       "50%       1.00000     1.000000\n",
       "75%       2.00000     2.000000\n",
       "max       2.00000     8.000000"
      ]
     },
     "execution_count": 4,
     "metadata": {},
     "output_type": "execute_result"
    }
   ],
   "source": [
    "carros.describe()"
   ]
  },
  {
   "cell_type": "code",
   "execution_count": 5,
   "metadata": {
    "collapsed": false
   },
   "outputs": [
    {
     "data": {
      "text/plain": [
       "Popular        1800\n",
       "Não popular    1200\n",
       "dtype: int64"
      ]
     },
     "execution_count": 5,
     "metadata": {},
     "output_type": "execute_result"
    }
   ],
   "source": [
    "carros.Tipo = carros.Tipo.astype('category')\n",
    "carros.Tipo.cat.categories = ('Popular', 'Não popular')\n",
    "carros.Tipo.value_counts()"
   ]
  },
  {
   "cell_type": "code",
   "execution_count": 6,
   "metadata": {
    "collapsed": false
   },
   "outputs": [
    {
     "data": {
      "text/plain": [
       "1    0.316667\n",
       "0    0.288000\n",
       "2    0.221333\n",
       "3    0.108333\n",
       "4    0.046333\n",
       "5    0.015667\n",
       "6    0.002667\n",
       "7    0.000667\n",
       "8    0.000333\n",
       "Name: Quantidade, dtype: float64"
      ]
     },
     "execution_count": 6,
     "metadata": {},
     "output_type": "execute_result"
    }
   ],
   "source": [
    "carros.Quantidade.value_counts(True)"
   ]
  },
  {
   "cell_type": "markdown",
   "metadata": {},
   "source": [
    "### a)"
   ]
  },
  {
   "cell_type": "code",
   "execution_count": 7,
   "metadata": {
    "collapsed": false
   },
   "outputs": [
    {
     "name": "stdout",
     "output_type": "stream",
     "text": [
      "Média:  1.3713340000000003\n",
      "Variância:  1.5794490604440001\n"
     ]
    }
   ],
   "source": [
    "mediap = (0.316667+(2*0.221333)+(3*0.108333)+(4*0.046333)+(5*0.015667)+(6*0.002667)+(7*0.000667)+(8*0.000333))\n",
    "print('Média: ', mediap)\n",
    "\n",
    "varianciap = ((((0-mediap)**2)*0.288000)+(((1-mediap)**2)*0.316667)+(((2-mediap)**2)*0.221333)+(((3-mediap)**2)*0.108333)+\n",
    "            (((4-mediap)**2)*0.046333)+(((5-mediap)**2)*0.015667)+(((6-mediap)**2)*0.002667)+(((7-mediap)**2)*0.000667)+\n",
    "            (((8-mediap)**2)*0.000333))\n",
    "print('Variância: ', varianciap)"
   ]
  },
  {
   "cell_type": "markdown",
   "metadata": {},
   "source": [
    "### b) <font color='blue'>Fazer isto é o mesmo que afirmar que a probalidade de um carro ter um dos 14 itens em não conformidade é de 0,10.</font>"
   ]
  },
  {
   "cell_type": "markdown",
   "metadata": {},
   "source": [
    "### c)"
   ]
  },
  {
   "cell_type": "code",
   "execution_count": 20,
   "metadata": {
    "collapsed": false
   },
   "outputs": [
    {
     "name": "stdout",
     "output_type": "stream",
     "text": [
      "Média:  1.4000000000000001\n",
      "Variância:  1.2600000000000002\n",
      "Probabilidade de haver 0 item em não conformidade:  0.22876792455\n",
      "Probabilidade de haver 1 item em não conformidade:  0.355861215966\n",
      "Probabilidade de haver 2 item em não conformidade:  0.257010878198\n",
      "Probabilidade de haver 3 item em não conformidade:  0.114227056977\n",
      "Probabilidade de haver 4 item em não conformidade:  0.034902711854\n",
      "Probabilidade de haver 5 item em não conformidade:  0.00775615818978\n",
      "Probabilidade de haver 6 item em não conformidade:  0.00129269303163\n",
      "Probabilidade de haver 7 item em não conformidade:  0.00016415149608\n",
      "Probabilidade de haver 8 item em não conformidade:  1.595917323e-05\n",
      "Probabilidade de haver 9 item em não conformidade:  1.18216098e-06\n",
      "Probabilidade de haver 10 item em não conformidade:  6.567561e-08\n",
      "Probabilidade de haver 11 item em não conformidade:  2.65356e-09\n",
      "Probabilidade de haver 12 item em não conformidade:  7.371e-11\n",
      "Probabilidade de haver 13 item em não conformidade:  1.26e-12\n",
      "Probabilidade de haver 14 item em não conformidade:  1e-14\n"
     ]
    }
   ],
   "source": [
    "stats.binom.pmf(carros.Quantidade, 14, 0.1)\n",
    "mediat = stats.binom.stats(14, 0.1, moments='m')\n",
    "varianciat = stats.binom.stats(14, 0.1, moments='v')\n",
    "\n",
    "print('Média: ', mediat)\n",
    "print('Variância: ', varianciat)\n",
    "print('Probabilidade de haver 0 item em não conformidade: ', stats.binom.pmf(0, 14, 0.1))\n",
    "print('Probabilidade de haver 1 item em não conformidade: ', stats.binom.pmf(1, 14, 0.1))\n",
    "print('Probabilidade de haver 2 item em não conformidade: ', stats.binom.pmf(2, 14, 0.1))\n",
    "print('Probabilidade de haver 3 item em não conformidade: ', stats.binom.pmf(3, 14, 0.1))\n",
    "print('Probabilidade de haver 4 item em não conformidade: ', stats.binom.pmf(4, 14, 0.1))\n",
    "print('Probabilidade de haver 5 item em não conformidade: ', stats.binom.pmf(5, 14, 0.1))\n",
    "print('Probabilidade de haver 6 item em não conformidade: ', stats.binom.pmf(6, 14, 0.1))\n",
    "print('Probabilidade de haver 7 item em não conformidade: ', stats.binom.pmf(7, 14, 0.1))\n",
    "print('Probabilidade de haver 8 item em não conformidade: ', stats.binom.pmf(8, 14, 0.1))\n",
    "print('Probabilidade de haver 9 item em não conformidade: ', stats.binom.pmf(9, 14, 0.1))\n",
    "print('Probabilidade de haver 10 item em não conformidade: ', stats.binom.pmf(10, 14, 0.1))\n",
    "print('Probabilidade de haver 11 item em não conformidade: ', stats.binom.pmf(11, 14, 0.1))\n",
    "print('Probabilidade de haver 12 item em não conformidade: ', stats.binom.pmf(12, 14, 0.1))\n",
    "print('Probabilidade de haver 13 item em não conformidade: ', stats.binom.pmf(13, 14, 0.1))\n",
    "print('Probabilidade de haver 14 item em não conformidade: ', stats.binom.pmf(14, 14, 0.1))"
   ]
  },
  {
   "cell_type": "markdown",
   "metadata": {},
   "source": [
    "### d) <font color='blue'>Para Y=y</font>"
   ]
  },
  {
   "cell_type": "code",
   "execution_count": 9,
   "metadata": {
    "collapsed": false,
    "scrolled": false
   },
   "outputs": [
    {
     "data": {
      "image/png": "[encoded data removed]",
      "text/plain": [
       "<matplotlib.figure.Figure at 0x1b6df7c69e8>"
      ]
     },
     "metadata": {},
     "output_type": "display_data"
    }
   ],
   "source": [
    "x=carros.Quantidade.value_counts(True)\n",
    "y=[stats.binom.pmf(0, 14,0.1),stats.binom.pmf(1, 14,0.1),stats.binom.pmf(2, 14,0.1),stats.binom.pmf(3, 14,0.1),stats.binom.pmf(4, 14,0.1),\n",
    "   stats.binom.pmf(5, 14,0.1),stats.binom.pmf(6, 14,0.1),stats.binom.pmf(7, 14,0.1),stats.binom.pmf(8,14,0.1)]\n",
    "plt.plot(x, 'bo')\n",
    "plt.plot(y,'bo', color='red')\n",
    "plt.legend(['Real','Esperada'])\n",
    "plt.show()"
   ]
  },
  {
   "cell_type": "markdown",
   "metadata": {},
   "source": [
    "### <font color='blue'>Para Y<=y</font>"
   ]
  },
  {
   "cell_type": "code",
   "execution_count": 10,
   "metadata": {
    "collapsed": false
   },
   "outputs": [
    {
     "data": {
      "image/png": "[encoded data removed]",
      "text/plain": [
       "<matplotlib.figure.Figure at 0x1b6e00a8c88>"
      ]
     },
     "metadata": {},
     "output_type": "display_data"
    }
   ],
   "source": [
    "w=(x[0],(x[0]+x[1]),(x[0]+x[1]+x[2]),(x[0]+x[1]+x[2]+x[3]),(x[0]+x[1]+x[2]+x[3]+x[4]),(x[0]+x[1]+x[2]+x[3]+x[4]+x[5]), \n",
    "   (x[0]+x[1]+x[2]+x[3]+x[4]+x[5]+x[6]),(x[0]+x[1]+x[2]+x[3]+x[4]+x[5]+x[6]+x[7]),(x[0]+x[1]+x[2]+x[3]+x[4]+x[5]+x[6]+x[7]+x[8]))\n",
    "z=(stats.binom.pmf(0, 14,0.1), stats.binom.pmf(0, 14,0.1)+stats.binom.pmf(1, 14,0.1), stats.binom.pmf(0, 14,0.1)+stats.binom.pmf(1, 14,0.1)\n",
    "   +stats.binom.pmf(2, 14,0.1), stats.binom.pmf(0, 14,0.1)+stats.binom.pmf(1, 14,0.1) +stats.binom.pmf(2, 14,0.1)+stats.binom.pmf(3, 14,0.1), \n",
    "   stats.binom.pmf(0, 14,0.1)+stats.binom.pmf(1, 14,0.1)+stats.binom.pmf(2, 14,0.1)+stats.binom.pmf(3, 14,0.1)+stats.binom.pmf(4, 14,0.1), \n",
    "   stats.binom.pmf(0, 14,0.1)+stats.binom.pmf(1, 14,0.1)+stats.binom.pmf(2, 14,0.1)+stats.binom.pmf(3, 14,0.1)+stats.binom.pmf(4, 14,0.1)+\n",
    "   stats.binom.pmf(5, 14,0.1), stats.binom.pmf(0, 14,0.1)+stats.binom.pmf(1, 14,0.1)+stats.binom.pmf(2, 14,0.1)+stats.binom.pmf(3, 14,0.1)+\n",
    "   stats.binom.pmf(4, 14,0.1)+stats.binom.pmf(5, 14,0.1)+stats.binom.pmf(6, 14,0.1), stats.binom.pmf(0, 14,0.1)+stats.binom.pmf(1, 14,0.1)\n",
    "   +stats.binom.pmf(2, 14,0.1)+stats.binom.pmf(3, 14,0.1)+stats.binom.pmf(4, 14,0.1)+stats.binom.pmf(5, 14,0.1)+stats.binom.pmf(6, 14,0.1)+\n",
    "   stats.binom.pmf(7, 14,0.1), stats.binom.pmf(0, 14,0.1)+stats.binom.pmf(1, 14,0.1)+stats.binom.pmf(2, 14,0.1)+stats.binom.pmf(3, 14,0.1)+\n",
    "   stats.binom.pmf(4, 14,0.1)+stats.binom.pmf(5, 14,0.1)+stats.binom.pmf(6, 14,0.1)+stats.binom.pmf(7, 14,0.1)+stats.binom.pmf(8, 14,0.1))\n",
    "plt.plot(w, 'bo')\n",
    "plt.plot(z,'bo', color='red')\n",
    "plt.legend(['Real','Esperada'])\n",
    "plt.show()"
   ]
  },
  {
   "cell_type": "markdown",
   "metadata": {
    "collapsed": true
   },
   "source": [
    "#### <font color='blue'>O modelo probabilistico funciona muito bem na determinação de variáveis como média, desvio padrão e frequência, e pode fornecer uma estimativa muito aproximada da realidade, por exemplo, para fazer uma estimativa para um período que faltam dados, ou para o futuro.</font>"
   ]
  },
  {
   "cell_type": "markdown",
   "metadata": {},
   "source": [
    "### e) <font color='blue'>Determinar as variáveis estatísticas com mais facilidade e fazer estimativas bem aproximadas.</font>"
   ]
  },
  {
   "cell_type": "markdown",
   "metadata": {},
   "source": [
    "### f)"
   ]
  },
  {
   "cell_type": "code",
   "execution_count": 28,
   "metadata": {
    "collapsed": false,
    "scrolled": true
   },
   "outputs": [
    {
     "name": "stdout",
     "output_type": "stream",
     "text": [
      "Probabilidade de haver 0 item em não conformidade:  0.22876792455\n",
      "Probabilidade de haver 1 item em não conformidade:  0.355861215966\n",
      "Probabilidade de haver 2 item em não conformidade:  0.257010878198\n",
      "Probabilidade de haver 3 item em não conformidade:  0.114227056977\n",
      "Probabilidade de haver 4 item em não conformidade:  0.034902711854\n",
      "Probabilidade de haver 5 item em não conformidade:  0.00775615818978\n",
      "Probabilidade de haver 6 item em não conformidade:  0.00129269303163\n",
      "Probabilidade de haver 7 item em não conformidade:  0.00016415149608\n",
      "Probabilidade de haver 8 item em não conformidade:  1.595917323e-05\n",
      "Probabilidade de haver 9 item em não conformidade:  1.18216098e-06\n",
      "Probabilidade de haver 10 item em não conformidade:  6.567561e-08\n",
      "Probabilidade de haver 11 item em não conformidade:  2.65356e-09\n",
      "Probabilidade de haver 12 item em não conformidade:  7.371e-11\n",
      "Probabilidade de haver 13 item em não conformidade:  1.26e-12\n",
      "Probabilidade de haver 14 item em não conformidade:  1e-14\n"
     ]
    }
   ],
   "source": [
    "stats.binom.pmf(carros.Quantidade[carros.Tipo=='Popular'], 14, 0.1)\n",
    "print('Probabilidade de haver 0 item em não conformidade: ', stats.binom.pmf(0, 14, 0.1))\n",
    "print('Probabilidade de haver 1 item em não conformidade: ', stats.binom.pmf(1, 14, 0.1))\n",
    "print('Probabilidade de haver 2 item em não conformidade: ', stats.binom.pmf(2, 14, 0.1))\n",
    "print('Probabilidade de haver 3 item em não conformidade: ', stats.binom.pmf(3, 14, 0.1))\n",
    "print('Probabilidade de haver 4 item em não conformidade: ', stats.binom.pmf(4, 14, 0.1))\n",
    "print('Probabilidade de haver 5 item em não conformidade: ', stats.binom.pmf(5, 14, 0.1))\n",
    "print('Probabilidade de haver 6 item em não conformidade: ', stats.binom.pmf(6, 14, 0.1))\n",
    "print('Probabilidade de haver 7 item em não conformidade: ', stats.binom.pmf(7, 14, 0.1))\n",
    "print('Probabilidade de haver 8 item em não conformidade: ', stats.binom.pmf(8, 14, 0.1))\n",
    "print('Probabilidade de haver 9 item em não conformidade: ', stats.binom.pmf(9, 14, 0.1))\n",
    "print('Probabilidade de haver 10 item em não conformidade: ', stats.binom.pmf(10, 14, 0.1))\n",
    "print('Probabilidade de haver 11 item em não conformidade: ', stats.binom.pmf(11, 14, 0.1))\n",
    "print('Probabilidade de haver 12 item em não conformidade: ', stats.binom.pmf(12, 14, 0.1))\n",
    "print('Probabilidade de haver 13 item em não conformidade: ', stats.binom.pmf(13, 14, 0.1))\n",
    "print('Probabilidade de haver 14 item em não conformidade: ', stats.binom.pmf(14, 14, 0.1))"
   ]
  },
  {
   "cell_type": "code",
   "execution_count": 15,
   "metadata": {
    "collapsed": false
   },
   "outputs": [
    {
     "data": {
      "text/plain": [
       "2    0.295000\n",
       "1    0.283889\n",
       "3    0.166667\n",
       "0    0.149444\n",
       "4    0.072778\n",
       "5    0.026111\n",
       "6    0.004444\n",
       "7    0.001111\n",
       "8    0.000556\n",
       "Name: Quantidade, dtype: float64"
      ]
     },
     "execution_count": 15,
     "metadata": {},
     "output_type": "execute_result"
    }
   ],
   "source": [
    "carros.Quantidade[carros.Tipo=='Popular'].value_counts(True)"
   ]
  },
  {
   "cell_type": "markdown",
   "metadata": {},
   "source": [
    "#### <font color='blue'>Para a probabilidade de 0,1 os valores se afastam muito do valor que indicam os dados</font>"
   ]
  },
  {
   "cell_type": "code",
   "execution_count": 31,
   "metadata": {
    "collapsed": false
   },
   "outputs": [
    {
     "name": "stdout",
     "output_type": "stream",
     "text": [
      "Probabilidade de haver 0 item em não conformidade:  0.142321180258\n",
      "Probabilidade de haver 1 item em não conformidade:  0.297729365598\n",
      "Probabilidade de haver 2 item em não conformidade:  0.289173924058\n",
      "Probabilidade de haver 3 item em não conformidade:  0.172839586793\n",
      "Probabilidade de haver 4 item em não conformidade:  0.0710231635385\n",
      "Probabilidade de haver 5 item em não conformidade:  0.0212253132414\n",
      "Probabilidade de haver 6 item em não conformidade:  0.00475739779549\n",
      "Probabilidade de haver 7 item em não conformidade:  0.000812429180182\n",
      "Probabilidade de haver 8 item em não conformidade:  0.000106222780742\n",
      "Probabilidade de haver 9 item em não conformidade:  1.05815796908e-05\n",
      "Probabilidade de haver 10 item em não conformidade:  7.9057779299e-07\n",
      "Probabilidade de haver 11 item em não conformidade:  4.29572050527e-08\n",
      "Probabilidade de haver 12 item em não conformidade:  1.60472317726e-09\n",
      "Probabilidade de haver 13 item em não conformidade:  3.68901879829e-11\n",
      "Probabilidade de haver 14 item em não conformidade:  3.9373763857e-13\n"
     ]
    }
   ],
   "source": [
    "print('Probabilidade de haver 0 item em não conformidade: ', stats.binom.pmf(0, 14, 0.13))\n",
    "print('Probabilidade de haver 1 item em não conformidade: ', stats.binom.pmf(1, 14, 0.13))\n",
    "print('Probabilidade de haver 2 item em não conformidade: ', stats.binom.pmf(2, 14, 0.13))\n",
    "print('Probabilidade de haver 3 item em não conformidade: ', stats.binom.pmf(3, 14, 0.13))\n",
    "print('Probabilidade de haver 4 item em não conformidade: ', stats.binom.pmf(4, 14, 0.13))\n",
    "print('Probabilidade de haver 5 item em não conformidade: ', stats.binom.pmf(5, 14, 0.13))\n",
    "print('Probabilidade de haver 6 item em não conformidade: ', stats.binom.pmf(6, 14, 0.13))\n",
    "print('Probabilidade de haver 7 item em não conformidade: ', stats.binom.pmf(7, 14, 0.13))\n",
    "print('Probabilidade de haver 8 item em não conformidade: ', stats.binom.pmf(8, 14, 0.13))\n",
    "print('Probabilidade de haver 9 item em não conformidade: ', stats.binom.pmf(9, 14, 0.13))\n",
    "print('Probabilidade de haver 10 item em não conformidade: ', stats.binom.pmf(10, 14, 0.13))\n",
    "print('Probabilidade de haver 11 item em não conformidade: ', stats.binom.pmf(11, 14, 0.13))\n",
    "print('Probabilidade de haver 12 item em não conformidade: ', stats.binom.pmf(12, 14, 0.13))\n",
    "print('Probabilidade de haver 13 item em não conformidade: ', stats.binom.pmf(13, 14, 0.13))\n",
    "print('Probabilidade de haver 14 item em não conformidade: ', stats.binom.pmf(14, 14, 0.13))"
   ]
  },
  {
   "cell_type": "markdown",
   "metadata": {},
   "source": [
    "#### <font color='blue'>Ajustando a probabilidade para 0,14 os valores se aproximam bastantes do exposto pela realidade.</font>"
   ]
  },
  {
   "cell_type": "markdown",
   "metadata": {},
   "source": [
    "### Gráfico para o binômio ajustado em p = 0,1"
   ]
  },
  {
   "cell_type": "code",
   "execution_count": 29,
   "metadata": {
    "collapsed": false
   },
   "outputs": [
    {
     "data": {
      "image/png": "[encoded data removed]",
      "text/plain": [
       "<matplotlib.figure.Figure at 0x1b6e00eb240>"
      ]
     },
     "metadata": {},
     "output_type": "display_data"
    }
   ],
   "source": [
    "a=carros.Quantidade[carros.Tipo=='Popular'].value_counts(True)\n",
    "b=[stats.binom.pmf(0, 14,0.1),stats.binom.pmf(1, 14,0.1),stats.binom.pmf(2, 14,0.1),stats.binom.pmf(3, 14,0.1),stats.binom.pmf(4, 14,0.1),\n",
    "   stats.binom.pmf(5, 14,0.1),stats.binom.pmf(6, 14,0.1),stats.binom.pmf(7, 14,0.1),stats.binom.pmf(8,14,0.1)]\n",
    "plt.plot(a, 'bo')\n",
    "plt.plot(b,'bo', color='red')\n",
    "plt.legend(['Real','Esperada'])\n",
    "plt.show()"
   ]
  },
  {
   "cell_type": "markdown",
   "metadata": {},
   "source": [
    "### Gráfico para o binômio ajustado em p = 0,1"
   ]
  },
  {
   "cell_type": "code",
   "execution_count": 30,
   "metadata": {
    "collapsed": false
   },
   "outputs": [
    {
     "data": {
      "image/png": "[encoded data removed]",
      "text/plain": [
       "<matplotlib.figure.Figure at 0x1b6e1162a90>"
      ]
     },
     "metadata": {},
     "output_type": "display_data"
    }
   ],
   "source": [
    "c=carros.Quantidade[carros.Tipo=='Popular'].value_counts(True)\n",
    "d=[stats.binom.pmf(0, 14,0.13),stats.binom.pmf(1, 14,0.13),stats.binom.pmf(2, 14,0.13),stats.binom.pmf(3, 14,0.13),stats.binom.pmf(4, 14,0.13),\n",
    "   stats.binom.pmf(5, 14,0.13),stats.binom.pmf(6, 14,0.13),stats.binom.pmf(7, 14,0.13),stats.binom.pmf(8,14,0.13)]\n",
    "plt.plot(c, 'bo')\n",
    "plt.plot(d,'bo', color='red')\n",
    "plt.legend(['Real','Esperada'])\n",
    "plt.show()"
   ]
  }
 ],
 "metadata": {
  "anaconda-cloud": {},
  "kernelspec": {
   "display_name": "Python 3",
   "language": "python",
   "name": "python3"
  },
  "language_info": {
   "codemirror_mode": {
    "name": "ipython",
    "version": 3
   },
   "file_extension": ".py",
   "mimetype": "text/x-python",
   "name": "python",
   "nbconvert_exporter": "python",
   "pygments_lexer": "ipython3",
   "version": "3.5.1"
  }
 },
 "nbformat": 4,
 "nbformat_minor": 0
}
